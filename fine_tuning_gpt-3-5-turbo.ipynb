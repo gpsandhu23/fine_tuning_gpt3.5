{
 "cells": [
  {
   "cell_type": "code",
   "execution_count": null,
   "id": "63f18b16-04d5-4e82-8a5c-9b14c2927792",
   "metadata": {},
   "outputs": [],
   "source": [
    "from dotenv import load_dotenv, find_dotenv\n",
    "_ = load_dotenv(find_dotenv()) # read local .env file\n",
    "\n",
    "import openai\n",
    "import json\n",
    "import os"
   ]
  },
  {
   "cell_type": "code",
   "execution_count": null,
   "id": "3dec98a0-36b9-4603-853b-97758b322939",
   "metadata": {},
   "outputs": [],
   "source": [
    "path = 'grumpy_greg_100_samples.jsonl' # Replace with the actual path to your file\n",
    "\n",
    "with open(path, 'r') as file:\n",
    "    for line in file:\n",
    "        record = json.loads(line)\n",
    "        print(record)"
   ]
  },
  {
   "cell_type": "code",
   "execution_count": null,
   "id": "0b49e44f-4737-4614-8cf4-e83b294c5b24",
   "metadata": {},
   "outputs": [],
   "source": [
    "# Upload the file to OpenAI\n",
    "openai.File.create(\n",
    "  file=open(\"grumpy_greg_100_samples.jsonl\", \"rb\"),\n",
    "  purpose='fine-tune'\n",
    ")"
   ]
  },
  {
   "cell_type": "code",
   "execution_count": null,
   "id": "5aebe0c4-3cce-4299-a477-a9286d51eafc",
   "metadata": {},
   "outputs": [],
   "source": [
    "# start the training job\n",
    "openai.api_key = os.getenv(\"OPENAI_API_KEY\")\n",
    "openai.FineTuningJob.create(training_file=\"file-Ch75rgOEBNUdY9IgNZ1siCWR\", model=\"gpt-3.5-turbo\")"
   ]
  },
  {
   "cell_type": "code",
   "execution_count": null,
   "id": "2c2385fa-49b2-4c82-9fe5-978c30729914",
   "metadata": {},
   "outputs": [],
   "source": [
    "# Check the status of the most recent job\n",
    "openai.FineTuningJob.list(limit=1)"
   ]
  },
  {
   "cell_type": "code",
   "execution_count": null,
   "id": "ac298c7b-2f6e-49e2-b589-14213af6c58d",
   "metadata": {},
   "outputs": [],
   "source": [
    "# Get output from base model\n",
    "completion = openai.ChatCompletion.create(\n",
    "  model=\"gpt-3.5-turbo-0613\",\n",
    "  messages=[\n",
    "      {\"role\": \"system\", \"content\": \"You are Greg. Hyper specialized cybersecurity expert\"},\n",
    "      {\"role\": \"user\", \"content\": \"How does one discover their purpose in life?\"}\n",
    "  ]\n",
    ")\n",
    "\n",
    "print(completion.choices[0].message)"
   ]
  },
  {
   "cell_type": "code",
   "execution_count": null,
   "id": "f47c319e-07f4-43c7-8080-91482ece2353",
   "metadata": {},
   "outputs": [],
   "source": [
    "# Get output from fine-tuned model\n",
    "completion = openai.ChatCompletion.create(\n",
    "  model=\"ft:gpt-3.5-turbo-0613:nomorebyte::7r5MQQOY\",\n",
    "  messages=[\n",
    "      {\"role\": \"system\", \"content\": \"You are Greg. Hyper specialized cybersecurity expert\"},\n",
    "      {\"role\": \"user\", \"content\": \"How does one discover their purpose in life?\"}\n",
    "  ]\n",
    ")\n",
    "\n",
    "print(completion.choices[0].message)"
   ]
  }
 ],
 "metadata": {
  "kernelspec": {
   "display_name": "Python 3 (ipykernel)",
   "language": "python",
   "name": "python3"
  },
  "language_info": {
   "codemirror_mode": {
    "name": "ipython",
    "version": 3
   },
   "file_extension": ".py",
   "mimetype": "text/x-python",
   "name": "python",
   "nbconvert_exporter": "python",
   "pygments_lexer": "ipython3",
   "version": "3.9.6"
  }
 },
 "nbformat": 4,
 "nbformat_minor": 5
}
